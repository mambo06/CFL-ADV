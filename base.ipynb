{
 "cells": [
  {
   "cell_type": "code",
   "execution_count": 1,
   "id": "ebff4eb0-ebfb-4e85-b5e6-45ea9e65bd26",
   "metadata": {},
   "outputs": [],
   "source": [
    "import bz2\n",
    "import pandas as pd\n",
    "from sklearn.preprocessing import normalize\n",
    "import numpy as np\n",
    "from sklearn.metrics import precision_recall_fscore_support\n",
    "from sklearn.linear_model import LogisticRegression\n",
    "from sklearn.model_selection import train_test_split\n",
    "import h5py\n",
    "import csv\n"
   ]
  },
  {
   "cell_type": "code",
   "execution_count": 2,
   "id": "a462a2d8-f563-47b3-a5de-15801087982a",
   "metadata": {},
   "outputs": [],
   "source": [
    "baseList = []"
   ]
  },
  {
   "cell_type": "markdown",
   "id": "c5b8ffb2-09ff-4d46-890e-5be95e6010ca",
   "metadata": {},
   "source": [
    "## COVTYPE"
   ]
  },
  {
   "cell_type": "code",
   "execution_count": 3,
   "id": "818f0bd3-4f14-4380-aaf2-fdb0951c4af0",
   "metadata": {},
   "outputs": [],
   "source": [
    "from sklearn.datasets import fetch_covtype\n",
    "cov_type = fetch_covtype()\n",
    "X=normalize(cov_type.data, norm=\"l1\")\n",
    "y=cov_type.target\n",
    "# idx = np.random.randint(0,X.shape[0],X.shape[0])"
   ]
  },
  {
   "cell_type": "code",
   "execution_count": 4,
   "id": "3f3400a5-9b07-4548-a0d5-6d519b78768c",
   "metadata": {},
   "outputs": [
    {
     "name": "stdout",
     "output_type": "stream",
     "text": [
      "(0.5529311549081724, 0.6008546651291218, 0.5605229342088506, None)\n",
      "Training score: precision 0.5529311549081724, recall 0.6008546651291218, F1 0.5605229342088506, support None\n"
     ]
    },
    {
     "name": "stderr",
     "output_type": "stream",
     "text": [
      "/Users/uqaginan/miniconda3/envs/RQ2/lib/python3.9/site-packages/sklearn/metrics/_classification.py:1469: UndefinedMetricWarning: Precision and F-score are ill-defined and being set to 0.0 in labels with no predicted samples. Use `zero_division` parameter to control this behavior.\n",
      "  _warn_prf(average, modifier, msg_start, len(result))\n"
     ]
    }
   ],
   "source": [
    "train, test, train_labels, test_labels = train_test_split(X, y, test_size=0.7, random_state=1)\n",
    "c = 1\n",
    "# rf = RandomForestClassifier()\n",
    "rf = LogisticRegression(max_iter=1200, solver='lbfgs', C=c, multi_class='multinomial')\n",
    "rf.fit(train, train_labels)\n",
    "rf_pred = rf.predict(test)\n",
    "# rf_acc = accuracy_score(test_labels, rf_pred)\n",
    "tr_acc = precision_recall_fscore_support(test_labels, rf_pred, average='weighted')\n",
    "# rf_acc = confusion_matrix(test_labels, rf_pred)\n",
    "\n",
    "baseList.append(['covtype',tr_acc[:-1]])\n",
    "print(tr_acc)\n",
    "print(\"Training score: precision {}, recall {}, F1 {}, support {}\".format(tr_acc[0],tr_acc[1],tr_acc[2],tr_acc[3]) )"
   ]
  },
  {
   "cell_type": "markdown",
   "id": "548cc982-0cea-4d15-9b45-3050967ed747",
   "metadata": {},
   "source": [
    "## Sensorless"
   ]
  },
  {
   "cell_type": "code",
   "execution_count": 5,
   "id": "d609732d-52eb-4899-9ad6-a2b3a7f77a2e",
   "metadata": {},
   "outputs": [],
   "source": [
    "data = np.loadtxt('../data/SensorlessDriveDiagnosis/Sensorless_drive_diagnosis.txt')\n",
    "np.random.shuffle(data) \n",
    "X = data[:,:-1]\n",
    "X=normalize(X, norm=\"l1\")\n",
    "y = data[:,-1]"
   ]
  },
  {
   "cell_type": "code",
   "execution_count": 6,
   "id": "798301e6-1d27-4723-9bc2-182bc2435b32",
   "metadata": {},
   "outputs": [
    {
     "name": "stdout",
     "output_type": "stream",
     "text": [
      "(0.16562053992993628, 0.16324437825036014, 0.15433110850462872, None)\n",
      "Training score: precision 0.16562053992993628, recall 0.16324437825036014, F1 0.15433110850462872, support None\n"
     ]
    }
   ],
   "source": [
    "train, test, train_labels, test_labels = train_test_split(X, y, test_size=0.7, random_state=1)\n",
    "c = 1\n",
    "# rf = RandomForestClassifier()\n",
    "rf = LogisticRegression(max_iter=1200, solver='lbfgs', C=c, multi_class='multinomial')\n",
    "rf.fit(train, train_labels)\n",
    "rf_pred = rf.predict(test)\n",
    "# rf_acc = accuracy_score(test_labels, rf_pred)\n",
    "tr_acc = precision_recall_fscore_support(test_labels, rf_pred, average='weighted')\n",
    "# rf_acc = confusion_matrix(test_labels, rf_pred)\n",
    "\n",
    "baseList.append(['sensorless',tr_acc[:-1]])\n",
    "print(tr_acc)\n",
    "print(\"Training score: precision {}, recall {}, F1 {}, support {}\".format(tr_acc[0],tr_acc[1],tr_acc[2],tr_acc[3]) )\n"
   ]
  },
  {
   "cell_type": "markdown",
   "id": "ec6f7aca-8edc-442e-a037-3c6e66150a52",
   "metadata": {},
   "source": [
    "## Tuandromd"
   ]
  },
  {
   "cell_type": "code",
   "execution_count": 7,
   "id": "f05ff025-0d0a-410c-9f23-246a56824bd5",
   "metadata": {},
   "outputs": [],
   "source": [
    "data = pd.read_csv('../data/TUANDROMD/TUANDROMD.csv')\n",
    "data = data.dropna(how='any',axis=0)\n",
    "data = data.values\n",
    "X = data[:,:-1]\n",
    "X=normalize(X, norm=\"l1\")\n",
    "y = data[:,-1]"
   ]
  },
  {
   "cell_type": "code",
   "execution_count": 8,
   "id": "ac688265-cee2-4e02-8df2-79aa2045ddbf",
   "metadata": {},
   "outputs": [
    {
     "name": "stdout",
     "output_type": "stream",
     "text": [
      "(0.9431724763705104, 0.94176, 0.9386746703123356, None)\n",
      "Training score: precision 0.9431724763705104, recall 0.94176, F1 0.9386746703123356, support None\n"
     ]
    }
   ],
   "source": [
    "train, test, train_labels, test_labels = train_test_split(X, y, test_size=0.7, random_state=1)\n",
    "c = 1\n",
    "# rf = RandomForestClassifier()\n",
    "rf = LogisticRegression(max_iter=1200, solver='lbfgs', C=c, multi_class='multinomial')\n",
    "rf.fit(train, train_labels)\n",
    "rf_pred = rf.predict(test)\n",
    "# rf_acc = accuracy_score(test_labels, rf_pred)\n",
    "tr_acc = precision_recall_fscore_support(test_labels, rf_pred, average='weighted')\n",
    "# rf_acc = confusion_matrix(test_labels, rf_pred)\n",
    "\n",
    "baseList.append(['tuandromd',tr_acc[:-1]])\n",
    "print(tr_acc)\n",
    "print(\"Training score: precision {}, recall {}, F1 {}, support {}\".format(tr_acc[0],tr_acc[1],tr_acc[2],tr_acc[3]) )\n",
    "\n"
   ]
  },
  {
   "cell_type": "markdown",
   "id": "8bede451-e9ec-4f73-a70c-350e343af237",
   "metadata": {},
   "source": [
    "## syn"
   ]
  },
  {
   "cell_type": "code",
   "execution_count": 9,
   "id": "3c3ee223-c2a8-4657-a87a-b02ed427ed2f",
   "metadata": {},
   "outputs": [],
   "source": [
    "f = h5py.File('../data/syn/syn.hdf5', 'r')\n",
    "inx = np.arange(f['labels'].shape[0])\n",
    "np.random.shuffle(inx)\n",
    "       \n",
    "X = f['features'][:].T[inx][:-100]\n",
    "y = f['labels'][:][inx][:-100]"
   ]
  },
  {
   "cell_type": "code",
   "execution_count": 10,
   "id": "78cbf2a4-ae7a-4bb8-9bdd-10b7859a2588",
   "metadata": {},
   "outputs": [
    {
     "name": "stdout",
     "output_type": "stream",
     "text": [
      "(0.8603006598764303, 0.8605496707701117, 0.859230443046017, None)\n",
      "Training score: precision 0.8603006598764303, recall 0.8605496707701117, F1 0.859230443046017, support None\n"
     ]
    }
   ],
   "source": [
    "train, test, train_labels, test_labels = train_test_split(X, y, test_size=0.7, random_state=1)\n",
    "c = 0.0001\n",
    "# rf = RandomForestClassifier()\n",
    "rf = LogisticRegression(max_iter=1200, solver='lbfgs', C=c, multi_class='multinomial')\n",
    "rf.fit(train, train_labels)\n",
    "rf_pred = rf.predict(test)\n",
    "# rf_acc = accuracy_score(test_labels, rf_pred)\n",
    "tr_acc = precision_recall_fscore_support(test_labels, rf_pred, average='weighted')\n",
    "# rf_acc = confusion_matrix(test_labels, rf_pred)\n",
    "\n",
    "baseList.append(['syn',tr_acc[:-1]])\n",
    "print(tr_acc)\n",
    "print(\"Training score: precision {}, recall {}, F1 {}, support {}\".format(tr_acc[0],tr_acc[1],tr_acc[2],tr_acc[3]) )"
   ]
  },
  {
   "cell_type": "markdown",
   "id": "9e80f5a9-3041-47eb-be29-0f44f8df8bbf",
   "metadata": {},
   "source": [
    "## Blog"
   ]
  },
  {
   "cell_type": "code",
   "execution_count": 11,
   "id": "d416d9c6-ad55-4586-823b-5f87f80586a7",
   "metadata": {},
   "outputs": [],
   "source": [
    "X = np.load(\"../data/blog/xtrain.npy\")\n",
    "y = np.load(\"../data/blog/ytrain.npy\")"
   ]
  },
  {
   "cell_type": "code",
   "execution_count": 12,
   "id": "d729c872-e074-4a10-ac62-292324daa25b",
   "metadata": {},
   "outputs": [
    {
     "name": "stdout",
     "output_type": "stream",
     "text": [
      "(0.7926394892970967, 0.7957085991602596, 0.7913803086325824, None)\n",
      "Training score: precision 0.7926394892970967, recall 0.7957085991602596, F1 0.7913803086325824, support None\n"
     ]
    }
   ],
   "source": [
    "train, test, train_labels, test_labels = train_test_split(X, y, test_size=0.7, random_state=1)\n",
    "c = 0.001\n",
    "# rf = RandomForestClassifier()\n",
    "rf = LogisticRegression(max_iter=1200, solver='lbfgs', C=c, multi_class='multinomial')\n",
    "rf.fit(train, train_labels)\n",
    "rf_pred = rf.predict(test)\n",
    "# rf_acc = accuracy_score(test_labels, rf_pred)\n",
    "tr_acc = precision_recall_fscore_support(test_labels, rf_pred, average='weighted')\n",
    "# rf_acc = confusion_matrix(test_labels, rf_pred)\n",
    "\n",
    "baseList.append(['blog',tr_acc[:-1]])\n",
    "print(tr_acc)\n",
    "print(\"Training score: precision {}, recall {}, F1 {}, support {}\".format(tr_acc[0],tr_acc[1],tr_acc[2],tr_acc[3]) )"
   ]
  },
  {
   "cell_type": "markdown",
   "id": "08bff300-1d54-464a-b793-5087b3079340",
   "metadata": {},
   "source": [
    "## Income"
   ]
  },
  {
   "cell_type": "code",
   "execution_count": 13,
   "id": "d89fb471-a448-4e4f-9f11-9c82683cd198",
   "metadata": {},
   "outputs": [],
   "source": [
    "X = np.load(\"../data/income/train_feat_std.npy\")\n",
    "y = np.load(\"../data/income/train_label.npy\")"
   ]
  },
  {
   "cell_type": "code",
   "execution_count": 14,
   "id": "8a604025-9747-4801-b92a-4df0e9df3208",
   "metadata": {},
   "outputs": [
    {
     "name": "stdout",
     "output_type": "stream",
     "text": [
      "(0.820244391751737, 0.8280761579994317, 0.8105013322099798, None)\n",
      "Training score: precision 0.820244391751737, recall 0.8280761579994317, F1 0.8105013322099798, support None\n"
     ]
    }
   ],
   "source": [
    "train, test, train_labels, test_labels = train_test_split(X, y, test_size=0.7, random_state=1)\n",
    "c = 0.001\n",
    "# rf = RandomForestClassifier()\n",
    "rf = LogisticRegression(max_iter=1200, solver='lbfgs', C=c, multi_class='multinomial')\n",
    "rf.fit(train, train_labels)\n",
    "rf_pred = rf.predict(test)\n",
    "# rf_acc = accuracy_score(test_labels, rf_pred)\n",
    "tr_acc = precision_recall_fscore_support(test_labels, rf_pred, average='weighted')\n",
    "# rf_acc = confusion_matrix(test_labels, rf_pred)\n",
    "\n",
    "baseList.append(['income',tr_acc[:-1]])\n",
    "print(tr_acc)\n",
    "print(\"Training score: precision {}, recall {}, F1 {}, support {}\".format(tr_acc[0],tr_acc[1],tr_acc[2],tr_acc[3]) )"
   ]
  },
  {
   "cell_type": "markdown",
   "id": "64ae1a64-2c12-428c-80f5-20a56ed3f12c",
   "metadata": {},
   "source": [
    "## export"
   ]
  },
  {
   "cell_type": "code",
   "execution_count": 15,
   "id": "c3c2071f-3fe4-498c-8cf1-a996d7040e6e",
   "metadata": {},
   "outputs": [],
   "source": [
    "fields = ['dataset', 'test_acc'] \n",
    "   \n",
    "# data rows of csv file \n",
    "\n",
    "with open('base.csv', 'w') as f:\n",
    "     \n",
    "    # using csv.writer method from CSV package\n",
    "    write = csv.writer(f)\n",
    "     \n",
    "    write.writerow(fields)\n",
    "    write.writerows(baseList)"
   ]
  },
  {
   "cell_type": "code",
   "execution_count": null,
   "id": "cf266fb1-e2e0-43f9-b396-b39e603b2e39",
   "metadata": {},
   "outputs": [],
   "source": []
  }
 ],
 "metadata": {
  "kernelspec": {
   "display_name": "Python 3 (ipykernel)",
   "language": "python",
   "name": "python3"
  },
  "language_info": {
   "codemirror_mode": {
    "name": "ipython",
    "version": 3
   },
   "file_extension": ".py",
   "mimetype": "text/x-python",
   "name": "python",
   "nbconvert_exporter": "python",
   "pygments_lexer": "ipython3",
   "version": "3.9.18"
  }
 },
 "nbformat": 4,
 "nbformat_minor": 5
}
